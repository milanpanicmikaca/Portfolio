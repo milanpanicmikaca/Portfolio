{
 "cells": [
  {
   "cell_type": "markdown",
   "metadata": {},
   "source": [
    "###### Set up the database"
   ]
  },
  {
   "cell_type": "code",
   "execution_count": 1,
   "metadata": {},
   "outputs": [
    {
     "name": "stdout",
     "output_type": "stream",
     "text": [
      "Defaulting to user installation because normal site-packages is not writeable\n",
      "Requirement already satisfied: mysql-connector-python in /home/milan/.local/lib/python3.10/site-packages (8.2.0)\n",
      "Requirement already satisfied: protobuf<=4.21.12,>=4.21.1 in /home/milan/.local/lib/python3.10/site-packages (from mysql-connector-python) (4.21.12)\n",
      "Note: you may need to restart the kernel to use updated packages.\n"
     ]
    }
   ],
   "source": [
    "pip install mysql-connector-python"
   ]
  },
  {
   "cell_type": "code",
   "execution_count": 3,
   "metadata": {},
   "outputs": [
    {
     "name": "stdout",
     "output_type": "stream",
     "text": [
      "Establishing database connection...\n",
      "Connection established.\n"
     ]
    }
   ],
   "source": [
    "#Establish a connection \n",
    "import mysql.connector as connector\n",
    "# Establish a connection\n",
    "print(\"Establishing database connection...\")\n",
    "connection = connector.connect(user=\"final_test\", password=\"Coursera~2023\")\n",
    "print(\"Connection established.\")"
   ]
  },
  {
   "cell_type": "code",
   "execution_count": 4,
   "metadata": {},
   "outputs": [
    {
     "name": "stdout",
     "output_type": "stream",
     "text": [
      "Cursor created.\n"
     ]
    }
   ],
   "source": [
    "# Create a cursor\n",
    "cursor = connection.cursor()\n",
    "print(\"Cursor created.\")"
   ]
  },
  {
   "cell_type": "code",
   "execution_count": null,
   "metadata": {},
   "outputs": [],
   "source": [
    "# Drop the database if it exists so I can rerun code.\n",
    "cursor.execute(\"DROP DATABASE IF EXISTS little_lemon_db\")\n",
    "\n",
    "# Create the database\n",
    "cursor.execute(\"CREATE DATABASE little_lemon_db\")\n",
    "\n",
    "# Set the database for use\n",
    "cursor.execute(\"USE little_lemon_db\")"
   ]
  },
  {
   "cell_type": "markdown",
   "metadata": {},
   "source": [
    "###### Create tables"
   ]
  },
  {
   "cell_type": "code",
   "execution_count": null,
   "metadata": {},
   "outputs": [],
   "source": [
    "# MenuItems table\n",
    "create_menuitem_table=\"\"\"\n",
    "CREATE TABLE MenuItems (\n",
    "ItemID INT AUTO_INCREMENT,\n",
    "Name VARCHAR(200),\n",
    "Type VARCHAR(100),\n",
    "Price INT,\n",
    "PRIMARY KEY (ItemID)\n",
    ");\"\"\""
   ]
  },
  {
   "cell_type": "code",
   "execution_count": null,
   "metadata": {},
   "outputs": [],
   "source": [
    "create_menu_table=\"\"\"\n",
    "CREATE TABLE Menus (\n",
    "MenuID INT,\n",
    "ItemID INT,\n",
    "Cuisine VARCHAR(100),\n",
    "PRIMARY KEY (MenuID, ItemID)\n",
    ");\"\"\""
   ]
  },
  {
   "cell_type": "code",
   "execution_count": null,
   "metadata": {},
   "outputs": [],
   "source": [
    "create_booking_table=\"\"\"\n",
    "CREATE TABLE Bookings (\n",
    "BookingID INT AUTO_INCREMENT,\n",
    "TableNo INT,\n",
    "GuestFirstName VARCHAR(100) NOT NULL,\n",
    "GuestLastName VARCHAR(100) NOT NULL,\n",
    "BookingSlot TIME NOT NULL,\n",
    "EmployeeID INT,\n",
    "PRIMARY KEY (BookingID)\n",
    ");\"\"\""
   ]
  },
  {
   "cell_type": "code",
   "execution_count": null,
   "metadata": {},
   "outputs": [],
   "source": [
    "create_orders_table=\"\"\"\n",
    "CREATE TABLE Orders (\n",
    "OrderID INT,\n",
    "TableNo INT,\n",
    "MenuID INT,\n",
    "BookingID INT,\n",
    "BillAmount INT,\n",
    "Quantity INT,\n",
    "PRIMARY KEY (OrderID,TableNo)\n",
    ");\"\"\""
   ]
  },
  {
   "cell_type": "code",
   "execution_count": null,
   "metadata": {},
   "outputs": [],
   "source": [
    "create_employees_table=\"\"\"\n",
    "CREATE TABLE Employees (\n",
    "EmployeeID INT AUTO_INCREMENT,\n",
    "Name VARCHAR(200),\n",
    "Role VARCHAR(100),\n",
    "Address VARCHAR(200),\n",
    "Contact_Number INT,\n",
    "Email VARCHAR(100),\n",
    "Annual_Salary VARCHAR(100),\n",
    "PRIMARY KEY (EmployeeID)\n",
    ");\"\"\""
   ]
  },
  {
   "cell_type": "code",
   "execution_count": null,
   "metadata": {},
   "outputs": [],
   "source": [
    "# Create MenuItems table\n",
    "cursor.execute(create_menuitem_table)\n",
    "print(\"The MenuItems table has been created.\")\n",
    "\n",
    "# Create Menu table\n",
    "cursor.execute(create_menu_table)\n",
    "print(\"The Menu has been created.\")\n",
    "\n",
    "# Create Bookings table\n",
    "cursor.execute(create_booking_table)\n",
    "print(\"The Bookings table has been created.\")\n",
    "\n",
    "# Create Orders table\n",
    "cursor.execute(create_orders_table)\n",
    "print(\"The Orders table has been created.\")\n",
    "\n",
    "# Create Employees table\n",
    "cursor.execute(create_employees_table)\n",
    "print(\"The Employees table has been created.\")"
   ]
  },
  {
   "cell_type": "code",
   "execution_count": null,
   "metadata": {},
   "outputs": [],
   "source": [
    "#*******************************************************#\n",
    "# Insert query to populate \"MenuItems\" table:\n",
    "#*******************************************************#\n",
    "insert_menuitems=\"\"\"\n",
    "INSERT INTO MenuItems (ItemID, Name, Type, Price)\n",
    "VALUES\n",
    "(1, 'Olives','Starters',5),\n",
    "(2, 'Flatbread','Starters', 5),\n",
    "(3, 'Minestrone', 'Starters', 8),\n",
    "(4, 'Tomato bread','Starters', 8),\n",
    "(5, 'Falafel', 'Starters', 7),\n",
    "(6, 'Hummus', 'Starters', 5),\n",
    "(7, 'Greek salad', 'Main Courses', 15),\n",
    "(8, 'Bean soup', 'Main Courses', 12),\n",
    "(9, 'Pizza', 'Main Courses', 15),\n",
    "(10, 'Greek yoghurt','Desserts', 7),\n",
    "(11, 'Ice cream', 'Desserts', 6),\n",
    "(12, 'Cheesecake', 'Desserts', 4),\n",
    "(13, 'Athens White wine', 'Drinks', 25),\n",
    "(14, 'Corfu Red Wine', 'Drinks', 30),\n",
    "(15, 'Turkish Coffee', 'Drinks', 10),\n",
    "(16, 'Turkish Coffee', 'Drinks', 10),\n",
    "(17, 'Kabasa', 'Main Courses', 17);\"\"\"\n",
    "\n",
    "#*******************************************************#\n",
    "# Insert query to populate \"Menu\" table:\n",
    "#*******************************************************#\n",
    "insert_menu=\"\"\"\n",
    "INSERT INTO Menus (MenuID,ItemID,Cuisine)\n",
    "VALUES\n",
    "(1, 1, 'Greek'),\n",
    "(1, 7, 'Greek'),\n",
    "(1, 10, 'Greek'),\n",
    "(1, 13, 'Greek'),\n",
    "(2, 3, 'Italian'),\n",
    "(2, 9, 'Italian'),\n",
    "(2, 12, 'Italian'),\n",
    "(2, 15, 'Italian'),\n",
    "(3, 5, 'Turkish'),\n",
    "(3, 17, 'Turkish'),\n",
    "(3, 11, 'Turkish'),\n",
    "(3, 16, 'Turkish');\"\"\"\n",
    "\n",
    "#*******************************************************#\n",
    "# Insert query to populate \"Bookings\" table:\n",
    "#*******************************************************#\n",
    "insert_bookings=\"\"\"\n",
    "INSERT INTO Bookings (BookingID, TableNo, GuestFirstName, \n",
    "GuestLastName, BookingSlot, EmployeeID)\n",
    "VALUES\n",
    "(1, 12, 'Anna','Iversen','19:00:00',1),\n",
    "(2, 12, 'Joakim', 'Iversen', '19:00:00', 1),\n",
    "(3, 19, 'Vanessa', 'McCarthy', '15:00:00', 3),\n",
    "(4, 15, 'Marcos', 'Romero', '17:30:00', 4),\n",
    "(5, 5, 'Hiroki', 'Yamane', '18:30:00', 2),\n",
    "(6, 8, 'Diana', 'Pinto', '20:00:00', 5);\"\"\"\n",
    "\n",
    "#*******************************************************#\n",
    "# Insert query to populate \"Orders\" table:\n",
    "#*******************************************************#\n",
    "insert_orders=\"\"\"\n",
    "INSERT INTO Orders (OrderID, TableNo, MenuID, BookingID, Quantity, BillAmount)\n",
    "VALUES\n",
    "(1, 12, 1, 1, 2, 86),\n",
    "(2, 19, 2, 2, 1, 37),\n",
    "(3, 15, 2, 3, 1, 37),\n",
    "(4, 5, 3, 4, 1, 40),\n",
    "(5, 8, 1, 5, 1, 43);\"\"\"\n",
    "\n",
    "#*******************************************************#\n",
    "# Insert query to populate \"Employees\" table:\n",
    "#*******************************************************#\n",
    "insert_employees=\"\"\"\n",
    "INSERT INTO Employees (EmployeeID, Name, Role, Address, Contact_Number, Email, Annual_Salary)\n",
    "VALUES\n",
    "(01,'Mario Gollini','Manager','724, Parsley Lane, Old Town, Chicago, IL',351258074,'Mario.g@littlelemon.com','$70,000'),\n",
    "(02,'Adrian Gollini','Assistant Manager','334, Dill Square, Lincoln Park, Chicago, IL',351474048,'Adrian.g@littlelemon.com','$65,000'),\n",
    "(03,'Giorgos Dioudis','Head Chef','879 Sage Street, West Loop, Chicago, IL',351970582,'Giorgos.d@littlelemon.com','$50,000'),\n",
    "(04,'Fatma Kaya','Assistant Chef','132  Bay Lane, Chicago, IL',351963569,'Fatma.k@littlelemon.com','$45,000'),\n",
    "(05,'Elena Salvai','Head Waiter','989 Thyme Square, EdgeWater, Chicago, IL',351074198,'Elena.s@littlelemon.com','$40,000'),\n",
    "(06,'John Millar','Receptionist','245 Dill Square, Lincoln Park, Chicago, IL',351584508,'John.m@littlelemon.com','$35,000');\"\"\"\n"
   ]
  },
  {
   "cell_type": "code",
   "execution_count": null,
   "metadata": {},
   "outputs": [],
   "source": [
    "#Populate the tables using execute module on the cursor.\n",
    "# Populate MenuItems table\n",
    "cursor.execute(insert_menuitems)\n",
    "connection.commit()\n",
    "print(\"Data inserted into 'MenuItems' table.\")\n",
    "\n",
    "# Populate Menu table\n",
    "cursor.execute(insert_menu)\n",
    "connection.commit()\n",
    "print(\"Data inserted into 'Menu' table.\")\n",
    "\n",
    "# Populate Bookings table\n",
    "cursor.execute(insert_bookings)\n",
    "connection.commit()\n",
    "print(\"Data inserted into 'Bookings' table.\")\n",
    "\n",
    "# Populate Orders table\n",
    "cursor.execute(insert_orders)\n",
    "connection.commit()\n",
    "print(\"Data inserted into 'Orders' table.\")\n",
    "\n",
    "# Populate Employees table\n",
    "cursor.execute(insert_employees)\n",
    "connection.commit()\n",
    "print(\"Data inserted into 'Employees' table.\")"
   ]
  },
  {
   "cell_type": "markdown",
   "metadata": {},
   "source": [
    "##### Implement and query stored procedures"
   ]
  },
  {
   "cell_type": "code",
   "execution_count": null,
   "metadata": {},
   "outputs": [],
   "source": [
    "#Import MySQLConnectionPool\n",
    "from mysql.connector.pooling import MySQLConnectionPool\n",
    "#Import Error\n",
    "from mysql.connector import Error\n",
    "\n",
    "dbconfig = {\n",
    "    \"database\": \"little_lemon_db\",\n",
    "    \"user\": \"final_test\",\n",
    "    \"password\": \"Coursera~2023\"\n",
    "}\n",
    "\n",
    "#Create a pool named pool_a with two connections. \n",
    "#Use a try-except block to handle any possible errors.\n",
    "#Code can be found in previously done labs!\n",
    "try:\n",
    "    print(\"Creating connection pool...\")\n",
    "    pool = MySQLConnectionPool(pool_name=\"pool_a\",\n",
    "                               pool_size=2, #set to 2 because of task. Default is 5.\n",
    "                               **dbconfig)\n",
    "    print(\"The connection pool has been created. It is named:\", pool.pool_name)\n",
    "    print(\"The pool size is:\", pool.pool_size)\n",
    "except Error as er:\n",
    "    print(\"Error code:\", er.errno)\n",
    "    print(\"Error message:\", er.msg)"
   ]
  },
  {
   "cell_type": "code",
   "execution_count": null,
   "metadata": {},
   "outputs": [],
   "source": [
    "#Obtain a connection from pool_a and create a cursor object to communicate with the database.\n",
    "connection_1 = pool.get_connection()\n",
    "cursor = connection_1.cursor()"
   ]
  },
  {
   "cell_type": "markdown",
   "metadata": {},
   "source": [
    "##### Implement a stored procedure called PeakHours"
   ]
  },
  {
   "cell_type": "code",
   "execution_count": null,
   "metadata": {},
   "outputs": [],
   "source": [
    "#droping the procedure in case it exists\n",
    "cursor.execute(\"DROP PROCEDURE IF EXISTS PeakHours;\")\n",
    "#Write a SQL CREATE PROCEDURE query for PeakHours\n",
    "s_p_peakhours_query=\"\"\"\n",
    "CREATE PROCEDURE PeakHours()\n",
    "BEGIN\n",
    "    SELECT \n",
    "    HOUR(BookingSlot) AS booked_at,\n",
    "    COUNT(HOUR(BookingSlot)) AS number_of_bookings\n",
    "    FROM Bookings\n",
    "    GROUP BY booked_at\n",
    "    ORDER BY number_of_bookings DESC;\n",
    "END\n",
    "\"\"\"\n",
    "# Run the stored procedure query by invoking execute module on the cursor.\n",
    "cursor.execute(s_p_peakhours_query)"
   ]
  },
  {
   "cell_type": "code",
   "execution_count": null,
   "metadata": {},
   "outputs": [],
   "source": [
    "#Invoke callproc to call the stored procedure.\n",
    "cursor.callproc(\"PeakHours\")\n",
    "results = next(cursor.stored_results() )\n",
    "#Fetch the results in a variable called dataset.\n",
    "dataset = results.fetchall()\n",
    "#Extract the names of the columns.\n",
    "for column_id in cursor.stored_results():\n",
    "    columns = [column[0] for column in column_id.description]\n",
    "#Print the names of the columns.\n",
    "print(columns)\n",
    "#Print the sorted data using for loop.\n",
    "for data in dataset:\n",
    "    print(data)"
   ]
  },
  {
   "cell_type": "markdown",
   "metadata": {},
   "source": [
    "#### Implement a stored procedure GuestStatus"
   ]
  },
  {
   "cell_type": "code",
   "execution_count": null,
   "metadata": {},
   "outputs": [],
   "source": [
    "#Step one: Write a SQL CREATE PROCEDURE query for GuestStatus.\n",
    "#Step two: Combine the guest’s first and last name from the booking column using CONCAT. \n",
    "#Step three: Use CASE to implement the following statuses for each guest’s order:\n",
    "s_p_gueststatus_query=\"\"\"\n",
    "CREATE PROCEDURE GuestStatus()\n",
    "BEGIN\n",
    "SELECT \n",
    "\n",
    "    Bookings.BookingID AS OrderNumber, \n",
    "    CONCAT(GuestFirstName,' ',GuestLastName) AS GuestName, \n",
    "    Role AS Employee, \n",
    "    CASE \n",
    "        WHEN Role IN ('Manager','Assistant Manager') THEN \"Ready to Pay\"\n",
    "        WHEN Role = 'Head Chef' THEN \"Ready to serve\"\n",
    "        WHEN Role = 'Assistant Chef' THEN \"Preparing order\"\n",
    "        WHEN Role = 'Head Waiter' THEN \"Order served\"\n",
    "    END AS Order_status\n",
    "    FROM Bookings \n",
    "        LEFT JOIN \n",
    "        Employees \n",
    "        ON Employees.EmployeeID=Bookings.EmployeeID;\n",
    "END\n",
    "\"\"\"\n",
    "#Run the stored procedure query by invoking execute module on the cursor.\n",
    "cursor.execute(s_p_gueststatus_query)"
   ]
  },
  {
   "cell_type": "code",
   "execution_count": null,
   "metadata": {},
   "outputs": [],
   "source": [
    "#Invoke callproc to call the stored procedure.\n",
    "cursor.callproc(\"GuestStatus\")\n",
    "results = next(cursor.stored_results())\n",
    "#Fetch the results in a variable called dataset.\n",
    "dataset = results.fetchall()\n",
    "\n",
    "# Extract the names of the columns.\n",
    "for column_id in cursor.stored_results():\n",
    "    columns = [column[0] for column in column_id.description]\n",
    "#Print the names of the columns.\n",
    "print(columns)\n",
    "#Print the sorted data using for loop.\n",
    "for data in dataset:\n",
    "    print(data)\n",
    "#Close the connection to return it back to the pool.    \n",
    "connection.close()"
   ]
  },
  {
   "cell_type": "markdown",
   "metadata": {},
   "source": [
    "###### LITTLE LEMON ANALYSIS AND SALES REPORT"
   ]
  },
  {
   "cell_type": "code",
   "execution_count": null,
   "metadata": {},
   "outputs": [],
   "source": [
    "#To create a connection pool, import MySQLConnectionPool class from MySQL Connector/Python.\n",
    "from mysql.connector.pooling import MySQLConnectionPool\n",
    "#To find the information on the error, import the Error class from MySQL Connector/Python.\n",
    "from mysql.connector import Error\n",
    "\n",
    "#Define your database configurations as a Python dictionary object called dbconfig.\n",
    "dbconfig = {\n",
    "    \"database\":\"little_lemon_db\",\n",
    "    \"user\" : \"final_test\",\n",
    "    \"password\" : \"Coursera~2023\"\n",
    "}\n",
    "\n",
    "#Establish a connection pool [pool_name = pool_b] with two connections.\n",
    "#Implement error handling using a try-except block in case the connection fails. \n",
    "try:\n",
    "    poolConnect = MySQLConnectionPool(pool_name = \"pool_b\",pool_size = 2,**dbconfig)\n",
    "    print(\"The connection pool is created with the name: \",poolConnect.pool_name)\n",
    "    print(\"The pool size is:\",poolConnect.pool_size)\n",
    "\n",
    "except Error as er:\n",
    "    print(\"Error code:\", er.errno)\n",
    "    print(\"Error message:\", er.msg)"
   ]
  },
  {
   "cell_type": "code",
   "execution_count": null,
   "metadata": {},
   "outputs": [],
   "source": [
    "#Three guests are trying to book dinner slots simultaneously. \n",
    "#Get the connections from pool_b and insert the following data in the Bookings table:\n",
    "#guest_no1\n",
    "conn1 = poolConnect.get_connection()\n",
    "cursor1 = conn1.cursor()\n",
    "booking1 = \"\"\"\n",
    "INSERT INTO Bookings \n",
    "    (TableNo, GuestFirstName, GuestLastName, BookingSlot, EmployeeID)\n",
    "VALUES\n",
    "    (8,'Anees','Java','18:00',6);\"\"\"\n",
    "cursor1.execute(booking1)\n",
    "conn1.commit()"
   ]
  },
  {
   "cell_type": "code",
   "execution_count": null,
   "metadata": {},
   "outputs": [],
   "source": [
    "#guest_no2\n",
    "conn2 = poolConnect.get_connection()\n",
    "cursor2 = conn2.cursor()\n",
    "booking2 = \"\"\"\n",
    "INSERT INTO Bookings \n",
    "    (TableNo, GuestFirstName, GuestLastName, BookingSlot, EmployeeID)\n",
    "VALUES\n",
    "    (5, 'Bald','Vin','19:00',6);\"\"\"\n",
    "cursor2.execute(booking2)\n",
    "conn2.commit()"
   ]
  },
  {
   "cell_type": "code",
   "execution_count": null,
   "metadata": {},
   "outputs": [],
   "source": [
    "try:\n",
    "    conn3 = poolConnect.get_connection()\n",
    "#pool size of 2 was created so we need to add one more in case we exaust all connections\n",
    "except connector.errors.PoolError:\n",
    "    print(\"Connection pool exhausted. Adding a new connection to the pool.\")\n",
    "    connection=connector.connect(user=\"final_test\",password=\"Coursera~2023\")\n",
    "    poolConnect.add_connection(cnx=connection)\n",
    "    conn3 = poolConnect.get_connection()\n",
    "    print(\"Additional connection has been added to the pool.\")"
   ]
  },
  {
   "cell_type": "code",
   "execution_count": null,
   "metadata": {},
   "outputs": [],
   "source": [
    "#guest_no3\n",
    "cursor3=conn3.cursor()\n",
    "booking3=\"\"\"INSERT INTO Bookings \n",
    "    (TableNo, GuestFirstName, GuestLastName, BookingSlot, EmployeeID)\n",
    "VALUES\n",
    "    (12, 'Jay','Kon','19:30',6);\"\"\"\n",
    "cursor3.execute(booking3)\n",
    "conn3.commit()"
   ]
  },
  {
   "cell_type": "code",
   "execution_count": null,
   "metadata": {},
   "outputs": [],
   "source": [
    "#Return all the connections back to the pool.\n",
    "connection_names = [\"conn1\", \"conn2\", \"conn3\"]\n",
    "from mysql.connector import Error\n",
    "for i, connection in enumerate([conn1, conn2, conn3]):\n",
    "    try:\n",
    "        connection.close()\n",
    "        print(f\"Connection {connection_names[i]} is returned to the pool\")\n",
    "    except Error as er:\n",
    "        print(\"The pool size is two. Only two connections can be returned.\")\n",
    "        print(\"Error message:\", er.msg)"
   ]
  },
  {
   "cell_type": "code",
   "execution_count": null,
   "metadata": {},
   "outputs": [],
   "source": [
    "#Create a report containing the following information:\n",
    "#The name and EmployeeID of the Little Lemon manager.\n",
    "query_lemon_manager = \"\"\"\n",
    "SELECT \n",
    "    Name, EmployeeID \n",
    "FROM Employees \n",
    "    WHERE Role = 'Manager'\n",
    "\"\"\"\n",
    "cursor.execute(query_lemon_manager)\n",
    "results=cursor.fetchall()\n",
    "columns=cursor.column_names\n",
    "print(columns)\n",
    "for result in results:\n",
    "    print(result)"
   ]
  },
  {
   "cell_type": "code",
   "execution_count": null,
   "metadata": {},
   "outputs": [],
   "source": [
    "#The name and role of the employee who receives the highest salary.\n",
    "query_highest_salary_employee = \"\"\"\n",
    "SELECT \n",
    "    Name, EmployeeID \n",
    "FROM Employees ORDER BY \n",
    "    Annual_Salary DESC LIMIT 1\n",
    "\"\"\"\n",
    "cursor.execute(query_highest_salary_employee)\n",
    "results=cursor.fetchall()\n",
    "columns=cursor.column_names\n",
    "print(columns)\n",
    "for result in results:\n",
    "    print(result)"
   ]
  },
  {
   "cell_type": "code",
   "execution_count": null,
   "metadata": {},
   "outputs": [],
   "source": [
    "#The number of guests booked between 18:00 and 20:00.\n",
    "query_booked_at = \"\"\"\n",
    "SELECT \n",
    "    COUNT(BookingID) bookings_count\n",
    "FROM Bookings \n",
    "WHERE BookingSlot BETWEEN '18:00:00' AND '20:00:00';\n",
    "\"\"\"\n",
    "cursor.execute(query_booked_at)\n",
    "results = cursor.fetchall()\n",
    "\n",
    "# Extract the count from the result\n",
    "bookings_count = results[0][0]\n",
    "\n",
    "# Print the formatted message\n",
    "print(f'The number of bookings between 18:00 and 20:00 is {bookings_count}.')"
   ]
  },
  {
   "cell_type": "code",
   "execution_count": null,
   "metadata": {},
   "outputs": [],
   "source": [
    "#The full name and BookingID of all guests waiting to be\n",
    "#seated with the receptionist in sorted order with respect to their BookingSlot.\n",
    "\n",
    "cursor.execute(\"\"\"\n",
    "SELECT \n",
    "    Bookings.BookingID AS BookingID,\n",
    "    CONCAT(GuestFirstName, ' ', GuestLastName) AS FullName\n",
    "FROM Bookings\n",
    "LEFT JOIN Employees ON Bookings.EmployeeID = Employees.EmployeeID\n",
    "WHERE Employees.Role = 'Receptionist'\n",
    "ORDER BY BookingSlot;\n",
    "\"\"\")\n",
    "print(\"The following guests are waiting to be seated with the receptionist:\")\n",
    "results = cursor.fetchall()\n",
    "\n",
    "if len(results) == 0:\n",
    "    print(\"No guests are currently waiting.\")\n",
    "\n",
    "else:\n",
    "    for result in results:\n",
    "        booking_id = result[0]\n",
    "        full_name = result[1]\n",
    "        print(f\"Booking ID: {booking_id}, Full Name: {full_name}\")\n"
   ]
  },
  {
   "cell_type": "code",
   "execution_count": null,
   "metadata": {},
   "outputs": [],
   "source": [
    "# Create a stored procedure named BasicSalesReport\n",
    "cursor.execute(\"DROP PROCEDURE IF EXISTS BasicSalesReport;\")\n",
    "\n",
    "s_p_query_bassic_sales_report=\"\"\"\n",
    "CREATE PROCEDURE BasicSalesReport()\n",
    "BEGIN\n",
    "    SELECT \n",
    "        SUM(BillAmount) AS Total,\n",
    "        AVG(BillAmount) AS Average,\n",
    "        MIN(BillAmount) AS Min,\n",
    "        MAX(BillAmount) AS Max\n",
    "    FROM Orders;\n",
    "END\n",
    "\"\"\"\n",
    "cursor.execute(s_p_query_bassic_sales_report)\n",
    "cursor.callproc(\"BasicSalesReport\")\n",
    "\n",
    "# Retrieve records in \"dataset\"\n",
    "results = next(cursor.stored_results())\n",
    "results = results.fetchall()\n",
    "\n",
    "# Retrieve column names using list comprehension in a for loop \n",
    "for column_id in cursor.stored_results():\n",
    "    cols = [column[0] for column in column_id.description]\n",
    "\n",
    "print(\"Today's sales report:\")\n",
    "for result in results:\n",
    "    print(f\"\\tTotal Sales: ${result[0]:,.2f}\")\n",
    "    print(f\"\\tAverage Sale: ${result[1]:,.2f}\")\n",
    "    print(f\"\\tMinimum Bill Paid: ${result[2]:,.2f}\")\n",
    "    print(f\"\\tMaximum Bill Paid: ${result[3]:,.2f}\")"
   ]
  },
  {
   "cell_type": "code",
   "execution_count": null,
   "metadata": {},
   "outputs": [],
   "source": [
    "# Drop the procedure if it exists\n",
    "cursor.execute(\"DROP PROCEDURE IF EXISTS UpcomingBookings;\")\n",
    "\n",
    "# Create the stored procedure\n",
    "s_p_query_Next_Three_Bookings = \"\"\"\n",
    "CREATE PROCEDURE UpcomingBookings()\n",
    "BEGIN\n",
    "    SELECT \n",
    "        CONCAT(\"[BookingSlot] \", b.BookingSlot) AS BookingSlot,\n",
    "        CONCAT(\"[Guest_name] \", CONCAT(b.GuestFirstName, \" \", b.GuestLastName)) AS Guest_name,\n",
    "        CONCAT(\"[Assigned to: \", CONCAT(e.Name, \" [\", e.Role, \"]]\")) AS Assign_to\n",
    "    FROM Bookings b\n",
    "    INNER JOIN Employees e ON e.EmployeeID = b.EmployeeID\n",
    "    ORDER BY b.BookingID ASC\n",
    "    LIMIT 3;\n",
    "END\n",
    "\"\"\"\n",
    "cursor.execute(s_p_query_Next_Three_Bookings)\n",
    "\n",
    "# Call the stored procedure\n",
    "cursor.callproc(\"UpcomingBookings\")\n",
    "\n",
    "# Retrieve and display the results\n",
    "results = next(cursor.stored_results())\n",
    "results = results.fetchall()\n",
    "\n",
    "print(\"Upcoming Bookings:\")\n",
    "for result in results:\n",
    "    print(result[0])\n",
    "    print(result[1])\n",
    "    print(result[2])\n",
    "    print()  # Add an empty line between entries for clarity\n",
    "\n",
    "# Close the connection safely without raising PoolError\n",
    "try:\n",
    "    if connection:\n",
    "        connection.close()\n",
    "except connector.errors.PoolError:\n",
    "    pass  # Ignore PoolError without raising it\n"
   ]
  }
 ],
 "metadata": {
  "kernelspec": {
   "display_name": "Python 3 (ipykernel)",
   "language": "python",
   "name": "python3"
  },
  "language_info": {
   "codemirror_mode": {
    "name": "ipython",
    "version": 3
   },
   "file_extension": ".py",
   "mimetype": "text/x-python",
   "name": "python",
   "nbconvert_exporter": "python",
   "pygments_lexer": "ipython3",
   "version": "3.10.12"
  },
  "vscode": {
   "interpreter": {
    "hash": "aee8b7b246df8f9039afb4144a1f6fd8d2ca17a180786b69acc140d282b71a49"
   }
  }
 },
 "nbformat": 4,
 "nbformat_minor": 2
}
